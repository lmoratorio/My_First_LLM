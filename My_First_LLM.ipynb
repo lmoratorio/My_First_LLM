{
  "nbformat": 4,
  "nbformat_minor": 0,
  "metadata": {
    "colab": {
      "provenance": [],
      "authorship_tag": "ABX9TyOsBj2SNLGWeHpIpB3fv+25",
      "include_colab_link": true
    },
    "kernelspec": {
      "name": "python3",
      "display_name": "Python 3"
    },
    "language_info": {
      "name": "python"
    }
  },
  "cells": [
    {
      "cell_type": "markdown",
      "metadata": {
        "id": "view-in-github",
        "colab_type": "text"
      },
      "source": [
        "<a href=\"https://colab.research.google.com/github/lmoratorio/My_First_LLM/blob/main/My_First_LLM.ipynb\" target=\"_parent\"><img src=\"https://colab.research.google.com/assets/colab-badge.svg\" alt=\"Open In Colab\"/></a>"
      ]
    },
    {
      "cell_type": "markdown",
      "source": [
        "Instalando o SDK do Google"
      ],
      "metadata": {
        "id": "kvJZHyse3-oc"
      }
    },
    {
      "cell_type": "code",
      "execution_count": 15,
      "metadata": {
        "id": "MQsmv3dtzvIw"
      },
      "outputs": [],
      "source": [
        "!pip install -q -U google-generativeai"
      ]
    },
    {
      "cell_type": "code",
      "source": [
        "import google.generativeai as genai\n",
        "from google.colab import userdata\n",
        "api_key = userdata.get(\"secret_key\")\n",
        "genai.configure(api_key=api_key)"
      ],
      "metadata": {
        "id": "OlAbx71D4Psr"
      },
      "execution_count": 16,
      "outputs": []
    },
    {
      "cell_type": "markdown",
      "source": [
        "Listar os modelos disponíveis"
      ],
      "metadata": {
        "id": "e7yEznbq4cfp"
      }
    },
    {
      "cell_type": "code",
      "source": [
        "for m in genai.list_models():\n",
        "  if \"generateContent\" in m.supported_generation_methods:\n",
        "    print(m.name)"
      ],
      "metadata": {
        "colab": {
          "base_uri": "https://localhost:8080/",
          "height": 139
        },
        "id": "OtLtXCts4ays",
        "outputId": "2e009c9f-61c7-4549-b137-5f5f5f638e2e"
      },
      "execution_count": 17,
      "outputs": [
        {
          "output_type": "stream",
          "name": "stdout",
          "text": [
            "models/gemini-1.0-pro\n",
            "models/gemini-1.0-pro-001\n",
            "models/gemini-1.0-pro-latest\n",
            "models/gemini-1.0-pro-vision-latest\n",
            "models/gemini-1.5-pro-latest\n",
            "models/gemini-pro\n",
            "models/gemini-pro-vision\n"
          ]
        }
      ]
    },
    {
      "cell_type": "code",
      "source": [
        "generation_config = {\n",
        "    \"candidate_count\": 1,\n",
        "    \"temperature\": 0.5,\n",
        "}"
      ],
      "metadata": {
        "id": "elZbTMx15Hbk"
      },
      "execution_count": 18,
      "outputs": []
    },
    {
      "cell_type": "code",
      "source": [
        "safety_settings = {\n",
        "    \"HARASSMENT\": \"BLOCK_NONE\",\n",
        "    \"HATE\": \"BLOCK_NONE\",\n",
        "    \"SEXUAL\": \"BLOCK_NONE\",\n",
        "    \"DANGEROUS\": \"BLOCK_NONE\",\n",
        "}"
      ],
      "metadata": {
        "id": "2m-Qmhc47y0L"
      },
      "execution_count": 19,
      "outputs": []
    },
    {
      "cell_type": "markdown",
      "source": [
        "Inicializando o modelo"
      ],
      "metadata": {
        "id": "Btmd-JHqOEko"
      }
    },
    {
      "cell_type": "code",
      "source": [
        "model = genai.GenerativeModel(model_name = \"gemini-1.0-pro\",\n",
        "                              generation_config = generation_config,\n",
        "                              safety_settings = safety_settings)"
      ],
      "metadata": {
        "id": "9cFTqFldOGbH"
      },
      "execution_count": 20,
      "outputs": []
    },
    {
      "cell_type": "code",
      "source": [
        "response = model.generate_content(\"Vamos aprender conteúdo sobre IA. Me dê sugestões\")\n",
        "print(response.text)"
      ],
      "metadata": {
        "colab": {
          "base_uri": "https://localhost:8080/",
          "height": 763
        },
        "id": "bC8AMXE4O66n",
        "outputId": "bed1c6af-ae8a-421a-a60e-d61c043586ad"
      },
      "execution_count": 21,
      "outputs": [
        {
          "output_type": "stream",
          "name": "stdout",
          "text": [
            "**Fundamentos da IA**\n",
            "\n",
            "* O que é Inteligência Artificial (IA)?\n",
            "* Tipos de IA: IA fraca, IA forte e IA geral\n",
            "* Algoritmos de aprendizado de máquina: Aprendizado supervisionado, não supervisionado e por reforço\n",
            "* Processamento de linguagem natural (PNL)\n",
            "* Visão computacional\n",
            "\n",
            "**Aplicações da IA**\n",
            "\n",
            "* Automação de processos\n",
            "* Reconhecimento de padrões\n",
            "* Previsão e análise preditiva\n",
            "* Diagnóstico médico\n",
            "* Veículos autônomos\n",
            "\n",
            "**Ética e Implicações Sociais da IA**\n",
            "\n",
            "* Preocupações éticas: Viés, privacidade e desemprego\n",
            "* Implicações sociais: O futuro do trabalho e o impacto na sociedade\n",
            "* Regulamentação e políticas éticas para IA\n",
            "\n",
            "**Tendências e Avanços da IA**\n",
            "\n",
            "* Aprendizado profundo e redes neurais\n",
            "* IA generativa: Modelos de linguagem grandes e arte gerada por IA\n",
            "* IA quântica\n",
            "* Metaverso e IA\n",
            "\n",
            "**Recursos de Aprendizagem**\n",
            "\n",
            "* Cursos online: Coursera, edX, Udacity\n",
            "* Livros: \"Inteligência Artificial: Uma abordagem moderna\" por Stuart Russell e Peter Norvig, \"Aprendizado de Máquina\" por Ethem Alpaydin\n",
            "* Revistas científicas: Nature Machine Intelligence, IEEE Transactions on Artificial Intelligence\n",
            "* Conferências e workshops: NeurIPS, ICML, CVPR\n",
            "\n",
            "**Sugestões de Tópicos Específicos**\n",
            "\n",
            "* IA na saúde: Diagnóstico auxiliado por IA, descoberta de medicamentos\n",
            "* IA em finanças: Análise de risco, negociação algorítmica\n",
            "* IA em manufatura: Automação, otimização de processos\n",
            "* IA em transporte: Veículos autônomos, gerenciamento de tráfego\n",
            "* IA em segurança: Detecção de fraude, prevenção de crimes\n"
          ]
        }
      ]
    },
    {
      "cell_type": "code",
      "source": [
        "chat = model.start_chat(history = [])"
      ],
      "metadata": {
        "id": "qk1imgvqPG5X"
      },
      "execution_count": 22,
      "outputs": []
    },
    {
      "cell_type": "code",
      "source": [
        "prompt = input(\"Esperando prompt: \")\n",
        "\n",
        "while prompt != \"fim\":\n",
        "  response = chat.send_message(prompt)\n",
        "  print(\"Resposta: \", response.text, \"\\n\")\n",
        "  prompt = input(\"Esperando prompt: \")"
      ],
      "metadata": {
        "id": "IblqPgYQP4Mn"
      },
      "execution_count": null,
      "outputs": []
    },
    {
      "cell_type": "code",
      "source": [
        "#Melhorando a visualização\n",
        "#Código disponível em https://ai.google.dev/tutorials/python_quickstart#import_packages\n",
        "import textwrap\n",
        "from IPython.display import display\n",
        "from IPython.display import Markdown\n",
        "\n",
        "def to_markdown(text):\n",
        "  text = text.replace('•', '  *')\n",
        "  return Markdown(textwrap.indent(text, '> ', predicate=lambda _: True))\n",
        "\n",
        "#Imprimindo o histórico\n",
        "for message in chat.history:\n",
        "  display(to_markdown(f'**{message.role}**: {message.parts[0].text}'))\n",
        "  print('-------------------------------------------')"
      ],
      "metadata": {
        "id": "pdWMYGd6QDoN"
      },
      "execution_count": null,
      "outputs": []
    }
  ]
}